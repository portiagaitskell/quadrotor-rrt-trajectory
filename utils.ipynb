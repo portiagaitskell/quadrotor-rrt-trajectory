{
 "cells": [
  {
   "cell_type": "code",
   "metadata": {
    "tags": [],
    "cell_id": "1b867066-77c4-400c-a7c3-7dfe62ec5411",
    "deepnote_to_be_reexecuted": false,
    "source_hash": "75d30a86",
    "execution_start": 1651605650129,
    "execution_millis": 795,
    "deepnote_cell_type": "code",
    "deepnote_cell_height": 315
   },
   "source": "from pydrake.all import (Box, DiagramBuilder,\n                         HPolyhedron, LinearSystem,\n                         LogVectorOutput,\n                         Sphere,\n                         StartMeshcat, \n                         MeshcatVisualizerCpp,SceneGraph, Simulator, StartMeshcat,\n                         AddMultibodyPlantSceneGraph, Parser, CoulombFriction, Cylinder, RigidTransform,\n                         SpatialInertia, Sphere, UnitInertia, MakeRenderEngineVtk, RenderEngineVtkParams,\n                         MeshcatVisualizerParams)\n\nfrom pydrake import geometry\n\nimport numpy as np\nimport matplotlib as plt",
   "execution_count": null,
   "outputs": []
  },
  {
   "cell_type": "code",
   "metadata": {
    "cell_id": "7071e190a2ff49d08d9c41758b4bf92a",
    "tags": [],
    "owner_user_id": "88ed08a4-7009-4f23-852e-a30221d2b774",
    "deepnote_cell_type": "code",
    "deepnote_cell_height": 804
   },
   "source": "def AddShape(plant, shape, name, mass=1, mu=1, color=[.5, .5, .9, 1.0]):\n    instance = plant.AddModelInstance(name)\n    # TODO: Add a method to UnitInertia that accepts a geometry shape (unless\n    # that dependency is somehow gross) and does this.\n    if isinstance(shape, Box):\n        inertia = UnitInertia.SolidBox(shape.width(), shape.depth(),\n                                       shape.height())\n    elif isinstance(shape, Cylinder):\n        inertia = UnitInertia.SolidCylinder(shape.radius(), shape.length())\n    elif isinstance(shape, Sphere):\n        inertia = UnitInertia.SolidSphere(shape.radius())\n    else:\n        raise RunTimeError(\n            f\"need to write the unit inertia for shapes of type {shape}\")\n    body = plant.AddRigidBody(\n        name, instance,\n        SpatialInertia(mass=mass,\n                       p_PScm_E=np.array([0., 0., 0.]),\n                       G_SP_E=inertia))\n    if plant.geometry_source_is_registered():\n        if isinstance(shape, Box):\n            plant.RegisterCollisionGeometry(\n                body, RigidTransform(),\n                Box(shape.width() - 0.001,\n                    shape.depth() - 0.001,\n                    shape.height() - 0.001), name, CoulombFriction(mu, mu))\n            i = 0\n            for x in [-shape.width() / 2.0, shape.width() / 2.0]:\n                for y in [-shape.depth() / 2.0, shape.depth() / 2.0]:\n                    for z in [-shape.height() / 2.0, shape.height() / 2.0]:\n                        plant.RegisterCollisionGeometry(\n                            body, RigidTransform([x, y, z]),\n                            Sphere(radius=1e-7), f\"contact_sphere{i}\",\n                            CoulombFriction(mu, mu))\n                        i += 1\n        else:\n            plant.RegisterCollisionGeometry(body, RigidTransform(), shape, name,\n                                            CoulombFriction(mu, mu))\n\n        plant.RegisterVisualGeometry(body, RigidTransform(), shape, name, color)\n\n    return instance",
   "execution_count": null,
   "outputs": []
  },
  {
   "cell_type": "code",
   "metadata": {
    "cell_id": "94e5de143ad64a31adf846fec85b21a4",
    "tags": [],
    "deepnote_cell_type": "code",
    "deepnote_cell_height": 210
   },
   "source": "def get_sphere(r, center):\n    u = np.linspace(0, 2*np.pi, 100)\n    v = np.linspace(0, np.pi, 100)\n\n    x = r * np.outer(np.cos(u), np.sin(v)) + center[0]\n    y = r * np.outer(np.sin(u), np.sin(v)) + center[1]\n    z = r * np.outer(np.ones(np.size(u)), np.cos(v)) + center[2]\n\n    return (x,y,z)",
   "execution_count": null,
   "outputs": []
  },
  {
   "cell_type": "code",
   "metadata": {
    "cell_id": "c0209a8cdf2c42d4b7b1a24336e0eb69",
    "tags": [],
    "deepnote_to_be_reexecuted": false,
    "source_hash": "66c1686b",
    "execution_start": 1651715364749,
    "execution_millis": 0,
    "deepnote_cell_type": "code",
    "deepnote_cell_height": 297
   },
   "source": "def getMinMaxBox(box):\n    x,y,z,w,h,d = box\n\n    min_x = x-w/2\n    max_x = x+w/2\n\n    min_y = y-h/2\n    max_y = y+h/2\n\n    min_z = z-d/2\n    max_z = z+d/2\n\n    return [[min_x, min_y, min_z], [max_x, max_y, max_z]]",
   "execution_count": null,
   "outputs": []
  },
  {
   "cell_type": "code",
   "metadata": {
    "cell_id": "e787d657077c4c85b7dd15d222b42ad0",
    "tags": [],
    "deepnote_cell_type": "code",
    "deepnote_cell_height": 61
   },
   "source": "",
   "execution_count": null,
   "outputs": []
  },
  {
   "cell_type": "markdown",
   "source": "<a style='text-decoration:none;line-height:16px;display:flex;color:#5B5B62;padding:10px;justify-content:end;' href='https://deepnote.com?utm_source=created-in-deepnote-cell&projectId=931e8205-9a5c-4b8e-a3da-167564211c03' target=\"_blank\">\n<img alt='Created in deepnote.com' style='display:inline;max-height:16px;margin:0px;margin-right:7.5px;' src='data:image/svg+xml;base64,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' > </img>\nCreated in <span style='font-weight:600;margin-left:4px;'>Deepnote</span></a>",
   "metadata": {
    "tags": [],
    "created_in_deepnote_cell": true,
    "deepnote_cell_type": "markdown"
   }
  }
 ],
 "nbformat": 4,
 "nbformat_minor": 2,
 "metadata": {
  "orig_nbformat": 2,
  "deepnote": {},
  "deepnote_notebook_id": "e790dc1e-6a60-4e5c-836a-ff40a6be02f1",
  "deepnote_execution_queue": []
 }
}