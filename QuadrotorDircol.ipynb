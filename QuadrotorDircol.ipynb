{
 "cells": [
  {
   "cell_type": "markdown",
   "source": "# Imports",
   "metadata": {
    "formattedRanges": [],
    "cell_id": "286d7ad8aa744c7e8ab50fc58f89b13e",
    "tags": [],
    "is_collapsed": false,
    "deepnote_cell_type": "text-cell-h1"
   }
  },
  {
   "cell_type": "code",
   "metadata": {
    "tags": [],
    "cell_id": "8635698e-8f28-40ae-8a4e-ca9a0fa78717",
    "deepnote_to_be_reexecuted": false,
    "source_hash": "c88adb3b",
    "execution_start": 1651715522763,
    "execution_millis": 2289,
    "deepnote_cell_type": "code",
    "deepnote_cell_height": 1047.859375
   },
   "source": "import import_ipynb\n\nimport sys\nimport time\n\nimport matplotlib.pyplot as plt\nimport mpld3\nimport math\nimport numpy as np\nimport pydot\nfrom IPython.display import HTML, SVG, clear_output, display\nfrom pydrake.all import (Box, DiagramBuilder, DirectCollocation,\n                         FiniteHorizonLinearQuadraticRegulatorOptions,\n                         HPolyhedron, LinearSystem,\n                         LogVectorOutput,\n                         MakeFiniteHorizonLinearQuadraticRegulator,\n                         MultibodyPlant, MultibodyPositionToGeometryPose, \n                         Parser,PiecewisePolynomial, Point, RigidTransform,\n                         RotationMatrix, RollPitchYaw, SceneGraph, Simulator, Solve, Sphere,\n                         StartMeshcat, TrajectorySource, Variable, eq,\n                         AddMultibodyPlantSceneGraph, ConstantVectorSource,\n                         ControllabilityMatrix, DiagramBuilder, Linearize,\n                         LinearQuadraticRegulator, MatrixGain,\n                         MeshcatVisualizerCpp, MultibodyPlant, Parser,\n                         Saturation, SceneGraph, Simulator, StartMeshcat,\n                         ToLatex, WrapToSystem, LeafSystem, FindResourceOrThrow, AbstractValue,\n                         FramePoseVector, namedview, GeometryInstance)\nfrom pydrake.all import (Box, DiagramBuilder,\n                         HPolyhedron, LinearSystem,\n                         LogVectorOutput,\n                         Sphere,\n                         StartMeshcat, \n                         MeshcatVisualizerCpp,SceneGraph, Simulator, StartMeshcat,\n                         AddMultibodyPlantSceneGraph, Parser, CoulombFriction, Cylinder, RigidTransform,\n                         SpatialInertia, Sphere, UnitInertia, MakeRenderEngineVtk, RenderEngineVtkParams,\n                         MeshcatVisualizerParams)\n                         \nimport pydrake.symbolic as symbolic\n\nfrom pydrake import geometry\n\nfrom pydrake.examples.quadrotor import (QuadrotorGeometry, QuadrotorPlant,\n                                        StabilizingLQRController)\n\nfrom underactuated import FindResource, running_as_notebook, ManipulatorDynamics\nfrom underactuated.jupyter import AdvanceToAndVisualize\nfrom underactuated.meshcat_utils import draw_points, set_planar_viewpoint\nfrom underactuated.quadrotor2d import Quadrotor2D, Quadrotor2DVisualizer\n\nfrom utils import (AddShape, getMinMaxBox)\n\nif running_as_notebook:\n    mpld3.enable_notebook()",
   "execution_count": null,
   "outputs": [
    {
     "name": "stdout",
     "text": "importing Jupyter notebook from utils.ipynb\n",
     "output_type": "stream"
    }
   ]
  },
  {
   "cell_type": "markdown",
   "source": "# 2D Direct Collocation",
   "metadata": {
    "formattedRanges": [],
    "cell_id": "daa3d8d85d0e41fea55b8bc6400e3e0c",
    "tags": [],
    "is_collapsed": false,
    "deepnote_cell_type": "text-cell-h1"
   }
  },
  {
   "cell_type": "code",
   "metadata": {
    "cell_id": "5039c0b313b34db2964240383a331ee4",
    "tags": [],
    "deepnote_cell_type": "code",
    "deepnote_cell_height": 2262
   },
   "source": "def quadrotor2D_dircol(start, goal, obstacle_list, breaks, RRT_guess, show=False):\n    \"\"\"\n    ADD DOCSTRING TO TALK ABOUT INPUTS AND OUTPUTS AND STRUCTURE\n    \"\"\"\n    plant = Quadrotor2D()\n    context = plant.CreateDefaultContext()\n\n    N = 61\n    max_dt = 0.5\n    min_dt = 0.01\n    max_tf = N*max_dt\n    dircol = DirectCollocation(plant,\n                            context,\n                            num_time_samples = N,\n                            minimum_timestep = min_dt,\n                            maximum_timestep = max_dt)\n    prog = dircol.prog()\n    state = dircol.state()\n     \n    dircol.prog() \n    dircol.AddEqualTimeIntervalsConstraints()\n\n    #---------------------------------ADD THRUST LIMIT CONSTRAINT\n    thrust_limit = 3.0\n    u = dircol.input()\n    dircol.AddConstraintToAllKnotPoints(-thrust_limit <= u[0])\n    dircol.AddConstraintToAllKnotPoints(u[0] <= thrust_limit)\n    dircol.AddConstraintToAllKnotPoints(-thrust_limit <= u[1])\n    dircol.AddConstraintToAllKnotPoints(u[1] <= thrust_limit)\n\n\n    #---------------------------------ADD INITIAL STATE\n    initial_x = float(start[0])\n    initial_y = float(start[1])\n    initial_theta = 0.0\n    initial_state = (initial_x, initial_y, initial_theta, 0., 0., 0.)\n    prog.AddBoundingBoxConstraint(initial_state, initial_state, dircol.initial_state())\n\n\n    #---------------------------------ADD FINAL STATE\n    final_x = float(goal[0])\n    final_y = float(goal[1])\n    final_theta = 0.0\n    final_state = (final_x, final_y, final_theta, 0., 0., 0.)\n    prog.AddBoundingBoxConstraint(final_state, final_state, dircol.final_state())\n\n    #----------------------------------CONSTRAIN THETA\n    dircol.AddConstraintToAllKnotPoints(state[2]<=90)\n    dircol.AddConstraintToAllKnotPoints(state[2]>=-90)\n\n    #---------------------------------ADD COLLISION AVOIDANCE CONSTRAINT\n    for ob in obstacles:\n        radius = ob[2] + 0.5\n        ob_x = ob[0]\n        ob_y = ob[1]\n        diff_x = state[0]-ob_x\n        diff_y = state[1]-ob_y\n        dircol.AddConstraintToAllKnotPoints(((diff_x**2) + (diff_y**2))**0.5 >= radius)\n\n\n    #----------------------------------RUNNING COST\n    R = 10  # Cost on input \"effort\".\n    for i in range(len(u)):\n        dircol.AddRunningCost(R*(u[i]**2))\n\n    # FINAL COST\n    dircol.AddFinalCost(dircol.time())\n\n    #---------------------------------INITIAL GUESS\n    initial_x_trajectory = PiecewisePolynomial.FirstOrderHold(\n        list(breaks), RRT_guess.T\n    )\n\n    dircol.SetInitialTrajectory(PiecewisePolynomial(), initial_x_trajectory)\n    \n    #---------------------------------SOLVE\n    result = Solve(prog)\n    assert result.is_success()\n\n    #--------------------------------REBUILD TRAJECTORIES\n    x_trajectory = dircol.ReconstructStateTrajectory(result)\n    time_x = np.linspace(x_trajectory.start_time(), x_trajectory.end_time(), 100)\n    x_knots = np.hstack([\n        x_trajectory.value(t) for t in np.linspace(x_trajectory.start_time(),\n                                                x_trajectory.end_time(), 100)])\n\n    u_trajectory = dircol.ReconstructInputTrajectory(result)\n    time_u = np.linspace(u_trajectory.start_time(), u_trajectory.end_time(), 100)\n    u_knots = np.hstack([\n        u_trajectory.value(t) for t in time_u])\n    \n    #---------------------------------PLOTTING\n    def plot_scene(obstacle_list, start, goal, traj):\n        ax = plt.gca()\n        for o in obstacle_list:\n            circle = plt.Circle((o[0], o[1]), o[2], color='k')\n            ax.add_artist(circle)\n        plt.axis([bounds[0]-0.5, bounds[1]+0.5, bounds[0]-0.5, bounds[1]+0.5])\n        plt.plot(start[0], start[1], \"xr\", markersize=10)\n        plt.plot(goal[0], goal[1], \"xb\", markersize=10)\n        plt.plot(traj[0],traj[1])\n        plt.plot()\n        plt.legend(('start', 'goal'), loc='upper left')\n        plt.gca().set_aspect('equal')\n    \n    if show:\n        plt.figure()\n        plot_scene(obstacles, start, goal,[x_knots[0,:], x_knots[1,:]])\n        plt.tight_layout()\n\n        plt.figure(2)\n        plt.plot(time_u,u_knots[0,:])\n        plt.xlabel(\"time (seconds)\")\n        plt.ylabel(\"force1 (Newtons)\")\n        display(plt.show())\n\n        plt.figure(3)\n        plt.plot(time_u,u_knots[1,:])\n        plt.xlabel(\"time (seconds)\")\n        plt.ylabel(\"force2 (Newtons)\")\n        display(plt.show())\n\n    return x_trajectory, u_trajectory",
   "execution_count": null,
   "outputs": []
  },
  {
   "cell_type": "markdown",
   "source": "# 2D LQR Stabilization",
   "metadata": {
    "formattedRanges": [],
    "cell_id": "c2760b8e7ba44d748d6e883461342b8e",
    "tags": [],
    "is_collapsed": false,
    "deepnote_cell_type": "text-cell-h1"
   }
  },
  {
   "cell_type": "code",
   "metadata": {
    "cell_id": "b80a840b1bc34b9eba6ce1c1d7a5f6f2",
    "tags": [],
    "deepnote_cell_type": "code",
    "deepnote_cell_height": 1992
   },
   "source": "def quadrotor2D_lqr(x_trajectory, u_trajectory, obstacle_list, show=False):\n    \"\"\"\n    ADD DOCSTRING TO TALK ABOUT INPUTS AND OUTPUTS AND STRUCTURE\n    \"\"\"\n    options = FiniteHorizonLinearQuadraticRegulatorOptions()\n    options.x0 = x_trajectory\n    options.u0 = u_trajectory\n\n    #-------------------------------SETUP\n    builder = DiagramBuilder()\n    plant = builder.AddSystem(Quadrotor2D())\n    context = plant.CreateDefaultContext()\n    Q = np.diag([1.,1.,1.,1.,1.,1.])\n    options.Qf = Q\n    regulator = builder.AddSystem(\n        MakeFiniteHorizonLinearQuadraticRegulator(plant,\n                                                  context,\n                                                  t0=options.u0.start_time(),\n                                                  tf=options.u0.end_time(),\n                                                  Q=Q,\n                                                  R=np.eye(2),\n                                                  options=options,))\n    \n    builder.Connect(regulator.get_output_port(0), plant.get_input_port(0))\n    builder.Connect(plant.get_output_port(0), regulator.get_input_port(0))\n    input_logger = LogVectorOutput(regulator.get_output_port(0), builder)\n    state_logger = LogVectorOutput(plant.get_output_port(0), builder)\n\n\n    #---------------------------Quadrotor 2D Visualizer (object moves out of window)\n    visualizer = builder.AddSystem(\n        Quadrotor2DVisualizer(show=False))\n\n    # SET AXES AND PLACE OBSTACLES\n    visualizer.ax.set_xlim(-5,15)\n    visualizer.ax.set_ylim(-5,15)\n    for o in obstacle_list:\n        circle = plt.Circle((o[0], o[1]), o[2], color='k')\n        visualizer.ax.add_artist(circle)\n\n\n    builder.Connect(plant.get_output_port(0),\n                    visualizer.get_input_port(0))\n \n    \n    #--------------------------- SIMULATION (a few random states)\n    diagram = builder.Build()\n    simulator = Simulator(diagram)\n    simcontext = simulator.get_mutable_context()\n\n    for i in range(3):\n        rand = 0.5*np.random.randn(6,)\n        start_state = np.array([start[0],start[1],0.,0.,0.,0.]) + rand\n        print(start_state)\n        simcontext.SetTime(0.)\n        simcontext.SetContinuousState(start_state)\n        simulator.Initialize()\n        AdvanceToAndVisualize(simulator, visualizer,\n                          options.u0.end_time() if running_as_notebook else 0.1)\n    \n    #----------------------------------PLOTTING    \n    if show:\n        fig, ax = plt.subplots(4,1)\n        ax[0].plot(options.u0.get_segment_times(),\n                options.u0.vector_values(options.u0.get_segment_times())[0].T)\n        input_log = input_logger.FindLog(simulator.get_context())\n        ax[0].plot(input_log.sample_times(), input_log.data()[0].T)\n        ax[0].legend(('u1 nominal','u1 actual'))\n\n        ax[1].plot(options.u0.get_segment_times(),\n                options.u0.vector_values(options.u0.get_segment_times())[1].T)\n        input_log = input_logger.FindLog(simulator.get_context())\n        ax[1].plot(input_log.sample_times(), input_log.data()[1].T)\n        ax[1].legend(('u1 nominal','u1 actual'))\n\n        ax[2].plot(options.x0.get_segment_times(),\n                options.x0.vector_values(options.x0.get_segment_times())[0].T, 'b')\n        state_log = state_logger.FindLog(simulator.get_context())\n        ax[2].plot(state_log.sample_times(), state_log.data()[0].T, 'g')\n        ax[2].legend(('x nominal','x actual'))\n\n        ax[3].plot(options.x0.get_segment_times(),\n                options.x0.vector_values(options.x0.get_segment_times())[1].T, 'b')\n        state_log = state_logger.FindLog(simulator.get_context())\n        ax[3].plot(state_log.sample_times(), state_log.data()[0].T, 'g')\n        ax[3].legend(('y nominal','y actual'))\n\n        def plot_scene(figure,obstacle_list, start, goal, traj):\n            ax = plt.gca()\n            for o in obstacle_list:\n                circle = plt.Circle((o[0], o[1]), o[2], color='k')\n                ax.add_artist(circle)\n            plt.axis([bounds[0]-0.5, bounds[1]+0.5, bounds[0]-0.5, bounds[1]+0.5])\n            plt.plot(start[0], start[1], \"xr\", markersize=10)\n            plt.plot(goal[0], goal[1], \"xb\", markersize=10)\n            plt.plot(traj[0],traj[1])\n            plt.plot()\n            plt.legend(('start', 'goal'), loc='upper left')\n            plt.gca().set_aspect('equal')\n        \n        fig2 = plt.figure(figsize=(5,5))\n        plot_scene(fig2,obstacle_list,start,goal, [options.x0.vector_values(options.x0.get_segment_times())[0].T,\n                                                options.x0.vector_values(options.x0.get_segment_times())[1].T])\n        plt.plot(state_log.data()[0].T,state_log.data()[1].T, 'g-')\n\n\n        display(plt.show())\n",
   "execution_count": null,
   "outputs": []
  },
  {
   "cell_type": "markdown",
   "source": "# 3D Direct Collocation",
   "metadata": {
    "formattedRanges": [],
    "cell_id": "1992514d0e7947acba46a121b2d71e03",
    "tags": [],
    "is_collapsed": false,
    "deepnote_cell_type": "text-cell-h1"
   }
  },
  {
   "cell_type": "code",
   "metadata": {
    "cell_id": "662a3d401bc44d1994cf786f7b0e8c56",
    "tags": [],
    "deepnote_cell_type": "code",
    "deepnote_cell_height": 2748
   },
   "source": "def quadrotor3D_dircol(start, goal, obstacle_list,show=False):\n    \"\"\"\n    TODO: Add Plotting at the end to show paths from random perturbations\n    TODO: Add constraint for box objects (check len(object) in object list; 4 = sphere, 6 = box)\n\n    Inputs: start = [x, y, z, phi, theta, psi, xdot, ydot, zdot, phidot, thetadot, psidot] INITIAL\n            goal = [x, y, z, phi, theta, psi, xdot, ydot, zdot, phidot, thetadot, psidot]  FINAL\n            obstacle_list = list of spherical or box obstacles\n            show = True/False to show or hide plots\n            \n    Outputs: x_trajectory = knot points for state-space\n             u_trajectory = knot points for input\n    \"\"\"\n    plant = QuadrotorPlant()\n    context = plant.CreateDefaultContext()\n    N = 61\n    max_dt = 0.5\n    min_dt = 0.01\n    max_tf = N*max_dt\n    dircol = DirectCollocation(plant,\n                            context,\n                            num_time_samples = N,\n                            minimum_timestep = min_dt,\n                            maximum_timestep = max_dt)\n    prog = dircol.prog()\n    state = dircol.state()\n\n\n    # STATE  = [x, y, z, roll, pitch, yaw].T\n     \n    dircol.prog() \n    dircol.AddEqualTimeIntervalsConstraints()\n\n    #---------------------------------ADD THRUST LIMIT CONSTRAINT\n    thrust_limit = 10.0\n    u = dircol.input()\n    dircol.AddConstraintToAllKnotPoints(-thrust_limit <= u[0])\n    dircol.AddConstraintToAllKnotPoints(u[0] <= thrust_limit)\n    #dircol.AddConstraintToAllKnotPoints(-thrust_limit <= u[1])\n    #dircol.AddConstraintToAllKnotPoints(u[1] <= thrust_limit)\n    dircol.AddConstraintToAllKnotPoints(-thrust_limit <= u[2])\n    dircol.AddConstraintToAllKnotPoints(u[2] <= thrust_limit)\n    #dircol.AddConstraintToAllKnotPoints(-thrust_limit <= u[3])\n    #dircol.AddConstraintToAllKnotPoints(u[3] <= thrust_limit)\n\n    #----------------------------------CONSTRAIN ROLL, PITCH, YAW\n    \n    dircol.AddConstraintToAllKnotPoints(state[4]<= (np.pi/2 - 0.1))\n    dircol.AddConstraintToAllKnotPoints(state[4]>=-(np.pi/2 - 0.1))\n\n    #---------------------------------ADD Initial States\n    initial_x = float(start[0])\n    initial_y = float(start[1])\n    initial_z = float(start[2])\n    initial_state = (initial_x, initial_y, initial_z, 0., 0., 0., 0., 0., 0., 0., 0., 0.)\n    prog.AddBoundingBoxConstraint(initial_state, initial_state, dircol.initial_state())\n\n\n    #---------------------------------ADD Final States\n    final_x = float(goal[0])\n    final_y = float(goal[1])\n    final_z = float(goal[2])\n    final_state = (final_x, final_y, final_z, 0., 0., 0., 0., 0., 0., 0., 0., 0.)\n    prog.AddBoundingBoxConstraint(final_state, final_state, dircol.final_state())\n\n    #---------------------------------ADD COLLISION AVOIDANCE CONSTRAINT\n    for ob in obstacle_list:\n        radius = ob[3] + 1 #rework tolerance based on feasibility\n        ob_x = ob[0]\n        ob_y = ob[1]\n        ob_z = ob[2]\n        diff_x = state[0]-ob_x\n        diff_y = state[1]-ob_y\n        diff_z = state[2]-ob_z\n        dircol.AddConstraintToAllKnotPoints(((diff_x**2) + (diff_y**2) + (diff_z**2))**0.5 >= radius)\n\n    #----------------------------------Running COST\n    R = 10  # Cost on input \"effort\".\n    for i in range(len(u)):\n        dircol.AddRunningCost(R*(u[i]**2))\n\n    # FINAL COST\n    dircol.AddFinalCost(dircol.time())\n\n    #-------------------------------- INITIAL GUESS\n    initial_x_trajectory = PiecewisePolynomial.FirstOrderHold(\n        list(breaks), RRT3D_guess.T)\n\n    dircol.SetInitialTrajectory(PiecewisePolynomial(), initial_x_trajectory)\n    \n    #---------------------------------SOLVE\n    result = Solve(prog)\n    assert result.is_success()\n\n    #---------------------------------REBUILD TRAJECTORIES\n    x_trajectory = dircol.ReconstructStateTrajectory(result)\n    time_x = np.linspace(x_trajectory.start_time(), x_trajectory.end_time(), 100)\n    x_knots = np.hstack([\n        x_trajectory.value(t) for t in np.linspace(x_trajectory.start_time(),\n                                                x_trajectory.end_time(), 100)])\n\n    u_trajectory = dircol.ReconstructInputTrajectory(result)\n    time_u = np.linspace(u_trajectory.start_time(), u_trajectory.end_time(), 100)\n    u_knots = np.hstack([\n        u_trajectory.value(t) for t in time_u])\n    \n    #--------------------------------- PLOT\n    def plot_scene(obstacle_list, start, goal, traj):\n        ax = plt.gca()\n        for o in obstacle_list:\n            circle = plt.Circle((o[0], o[1]), o[2], color='k')\n            ax.add_artist(circle)\n        plt.axis([bounds[0]-0.5, bounds[1]+0.5, bounds[0]-0.5, bounds[1]+0.5])\n        plt.plot(start[0], start[1], \"xr\", markersize=10)\n        plt.plot(goal[0], goal[1], \"xb\", markersize=10)\n        plt.plot(traj[0],traj[1])\n        plt.plot()\n        plt.legend(('start', 'goal'), loc='upper left')\n        plt.gca().set_aspect('equal')\n    \n    if show:\n        plt.figure()\n        plot_scene(obstacles, start, goal,[x_knots[0,:], x_knots[2,:]])\n        plt.tight_layout()\n\n        plt.figure(2)\n        plt.plot(time_u,u_knots[0,:])\n        plt.xlabel(\"time (seconds)\")\n        plt.ylabel(\"force1 (Newtons)\")\n        #display(plt.show())\n\n        plt.figure(3)\n        plt.plot(time_u,u_knots[1,:])\n        plt.xlabel(\"time (seconds)\")\n        plt.ylabel(\"force2 (Newtons)\")\n        #display(plt.show())\n\n        plt.figure(4)\n        plt.plot(time_u,u_knots[2,:])\n        plt.xlabel(\"time (seconds)\")\n        plt.ylabel(\"force3 (Newtons)\")\n        #display(plt.show())\n\n        plt.figure(5)\n        plt.plot(time_u,u_knots[3,:])\n        plt.xlabel(\"time (seconds)\")\n        plt.ylabel(\"force4 (Newtons)\")\n        #display(plt.show())\n\n    return x_trajectory, u_trajectory",
   "execution_count": null,
   "outputs": []
  },
  {
   "cell_type": "markdown",
   "source": "# 3D LQR Stabilization",
   "metadata": {
    "formattedRanges": [],
    "cell_id": "9bd132b834ce4367b1fc6c6547446601",
    "tags": [],
    "is_collapsed": false,
    "deepnote_cell_type": "text-cell-h1"
   }
  },
  {
   "cell_type": "code",
   "metadata": {
    "cell_id": "349b03624fc64cff99a022f9dcb69bc0",
    "tags": [],
    "owner_user_id": "13384931-dffc-4f74-a2f2-92995a6545e5",
    "deepnote_cell_type": "code",
    "deepnote_cell_height": 1542
   },
   "source": "def quadrotor3D_lqr(start, x_trajectory, u_trajectory, meshcat):\n    '''\n    Inputs: start = [x, y, z, phi, theta, psi, xdot, ydot, zdot, phidot, thetadot, psidot]\n            x_trajectory = array output of trajectory optimization\n            u_trajectory = array output of trajectory optimization\n            meshcat = simulation link \n            \n    Goal:   1. input a trajectory for feedback stabilization with LQR(t) over the trajectory \n            2. simulate in Meshcat\n    '''\n    options = FiniteHorizonLinearQuadraticRegulatorOptions()\n    options.x0 = x_trajectory\n    options.u0 = u_trajectory\n\n    builder = DiagramBuilder()\n    plant = builder.AddSystem(QuadrotorPlant())\n    context = plant.CreateDefaultContext()\n    Q = np.diag([10.,10.,10.,10.,10.,10.,1.,1.,1.,1.,1.,1.])\n    options.Qf = Q\n\n    #----------------------------MAKE REGULATOR AND CONNECT\n    regulator = builder.AddSystem(\n        MakeFiniteHorizonLinearQuadraticRegulator(plant,\n                                                  context,\n                                                  t0=options.u0.start_time(),\n                                                  tf=options.u0.end_time(),\n                                                  Q=Q,\n                                                  R=np.eye(4),\n                                                  options=options))\n    builder.Connect(regulator.get_output_port(0), plant.get_input_port(0))\n    builder.Connect(plant.get_output_port(0), regulator.get_input_port(0))\n    input_logger = LogVectorOutput(regulator.get_output_port(0), builder)\n    state_logger = LogVectorOutput(plant.get_output_port(0), builder)\n\n    #---------------------------MESHCAT VISUALIZATION\n    scene_graph = builder.AddSystem(SceneGraph())\n    QuadrotorGeometry.AddToBuilder(builder, plant.get_output_port(0), scene_graph)\n\n    mbp = builder.AddSystem(MultibodyPlant(time_step=0.0))\n    mbp.RegisterAsSourceForSceneGraph(scene_graph)\n\n    for i, obs in enumerate(obstacles):\n        x,y,z,r = obs\n        obstacle = AddShape(mbp, geometry.Sphere(r), f\"obstacle_{i}\", color = [1,0,0,1])\n        mbp.WeldFrames(mbp.world_frame(), mbp.GetFrameByName(f\"obstacle_{i}\"),\n                       RigidTransform(p=[x, y, z]))\n\n    # \n    builder.Connect(\n        mbp.get_geometry_poses_output_port(),\n        scene_graph.get_source_pose_port(mbp.get_source_id()),\n    )\n    builder.Connect(\n        scene_graph.get_query_output_port(),\n        mbp.get_geometry_query_input_port(),\n    )\n    mbp.Finalize()\n        \n    meshcat.Delete()\n    meshcat.ResetRenderMode()\n    meshcat.SetProperty('/Background','visible',False)\n    visualizer = MeshcatVisualizerCpp.AddToBuilder(builder, scene_graph, meshcat)\n    # end setup for visualization\n\n    \n   #----------------------------SIMULATOR\n    diagram = builder.Build()\n    simulator = Simulator(diagram)\n    simulator.set_target_realtime_rate(1.0 if running_as_notebook else 0.0)\n    simcontext = simulator.get_mutable_context()\n    quad_context = plant.GetMyContextFromRoot(simcontext)\n\n    visualizer.StartRecording(False)\n    for i in range(3):\n        rand = 0.5*np.random.randn(12,)\n        start_state = np.array([start3D[0],start3D[1],start3D[2],0.,0.,0.,0.,0.,0.,0.,0.,0.]) + rand\n        simcontext.SetTime(0.)\n        quad_context.SetContinuousState(start_state)\n        simulator.Initialize()\n        simulator.AdvanceTo(x_trajectory.end_time())\n    visualizer.PublishRecording()\n    \n",
   "execution_count": null,
   "outputs": []
  },
  {
   "cell_type": "markdown",
   "source": "<a style='text-decoration:none;line-height:16px;display:flex;color:#5B5B62;padding:10px;justify-content:end;' href='https://deepnote.com?utm_source=created-in-deepnote-cell&projectId=931e8205-9a5c-4b8e-a3da-167564211c03' target=\"_blank\">\n<img alt='Created in deepnote.com' style='display:inline;max-height:16px;margin:0px;margin-right:7.5px;' src='data:image/svg+xml;base64,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' > </img>\nCreated in <span style='font-weight:600;margin-left:4px;'>Deepnote</span></a>",
   "metadata": {
    "tags": [],
    "created_in_deepnote_cell": true,
    "deepnote_cell_type": "markdown"
   }
  }
 ],
 "nbformat": 4,
 "nbformat_minor": 2,
 "metadata": {
  "orig_nbformat": 2,
  "deepnote": {},
  "deepnote_notebook_id": "c57659ab-499b-4e4c-9153-15567546141a",
  "deepnote_execution_queue": []
 }
}