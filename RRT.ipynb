{
 "cells": [
  {
   "cell_type": "code",
   "metadata": {
    "tags": [],
    "cell_id": "24c0e792-e2ff-4761-926e-51cfeee89d21",
    "deepnote_to_be_reexecuted": false,
    "source_hash": "34836709",
    "execution_start": 1652888018498,
    "execution_millis": 3584,
    "deepnote_cell_type": "code",
    "deepnote_cell_height": 468
   },
   "source": "from pydrake.all import (Box, DiagramBuilder,\n                         HPolyhedron, LinearSystem,\n                         LogVectorOutput,\n                         Sphere,\n                         StartMeshcat, \n                         MeshcatVisualizerCpp,SceneGraph, Simulator, StartMeshcat,\n                         AddMultibodyPlantSceneGraph, Parser, CoulombFriction, Cylinder, RigidTransform,\n                         SpatialInertia, Sphere, UnitInertia, MakeRenderEngineVtk, RenderEngineVtkParams,\n                         MeshcatVisualizerParams)\n\nfrom pydrake import geometry\n\n#import_ipynb\nfrom utils import getMinMaxBox\n\nimport matplotlib.pyplot as plt\nimport numpy as np\n\nimport pydrake.symbolic as symbolic",
   "execution_count": null,
   "outputs": [
    {
     "output_type": "error",
     "ename": "NameError",
     "evalue": "name 'import_ipynb' is not defined",
     "traceback": [
      "\u001b[0;31m---------------------------------------------------------------------------\u001b[0m",
      "\u001b[0;31mNameError\u001b[0m                                 Traceback (most recent call last)",
      "\u001b[0;32m<ipython-input-1-23326e833a59>\u001b[0m in \u001b[0;36m<cell line: 13>\u001b[0;34m()\u001b[0m\n\u001b[1;32m     11\u001b[0m \u001b[0;32mfrom\u001b[0m \u001b[0mpydrake\u001b[0m \u001b[0;32mimport\u001b[0m \u001b[0mgeometry\u001b[0m\u001b[0;34m\u001b[0m\u001b[0;34m\u001b[0m\u001b[0m\n\u001b[1;32m     12\u001b[0m \u001b[0;34m\u001b[0m\u001b[0m\n\u001b[0;32m---> 13\u001b[0;31m \u001b[0mimport_ipynb\u001b[0m\u001b[0;34m\u001b[0m\u001b[0;34m\u001b[0m\u001b[0m\n\u001b[0m\u001b[1;32m     14\u001b[0m \u001b[0;32mfrom\u001b[0m \u001b[0mutils\u001b[0m \u001b[0;32mimport\u001b[0m \u001b[0mgetMinMaxBox\u001b[0m\u001b[0;34m\u001b[0m\u001b[0;34m\u001b[0m\u001b[0m\n\u001b[1;32m     15\u001b[0m \u001b[0;34m\u001b[0m\u001b[0m\n",
      "\u001b[0;31mNameError\u001b[0m: name 'import_ipynb' is not defined"
     ]
    }
   ]
  },
  {
   "cell_type": "markdown",
   "source": "### RRT (2D)",
   "metadata": {
    "formattedRanges": [],
    "cell_id": "08f839dce9e64db6ba11dcacbc72c245",
    "tags": [],
    "is_collapsed": false,
    "deepnote_cell_type": "text-cell-h3"
   }
  },
  {
   "cell_type": "code",
   "metadata": {
    "cell_id": "7d9253e309b5499cbc20ef9b91b8a02c",
    "tags": [],
    "deepnote_to_be_reexecuted": false,
    "source_hash": "d94dc3a9",
    "execution_start": 1652733327633,
    "execution_millis": 153,
    "deepnote_cell_type": "code",
    "deepnote_cell_height": 2340
   },
   "source": "class RRT:\n \n    class Node:\n        def __init__(self, p):\n            self.p = np.array(p)\n            self.parent = None\n\n    def __init__(self, start, goal, obstacle_list, bounds, \n                 max_extend_length=3.0, path_resolution=0.5, \n                 goal_sample_rate=0.05, max_iter=100):\n        self.start = self.Node(start)\n        self.goal = self.Node(goal)\n        self.bounds = bounds\n        self.max_extend_length = max_extend_length\n        self.path_resolution = path_resolution\n        self.goal_sample_rate = goal_sample_rate\n        self.max_iter = max_iter\n        self.obstacle_list = obstacle_list\n        self.node_list = []\n\n    def plan(self):\n        \"\"\"Plans the path from start to goal while avoiding obstacles\"\"\"\n        self.node_list = [self.start]\n        for i in range(self.max_iter):\n            # modify here: \n            # 1) Create a random node (rnd_node) inside \n            # the bounded environment\n            # 2) Find nearest node (nearest_node)\n            # 3) Get new node (new_node) by connecting\n            # rnd_node and nearest_node. Hint: steer\n            # 4) If the path between new_node and the\n            # nearest node is not in collision, add it to the node_list\n            rnd_node = self.get_random_node()\n            nearest_node = self.get_nearest_node(self.node_list, rnd_node)\n\n            new_node = self.steer(nearest_node, rnd_node, self.max_extend_length)\n\n            if not self.collision(nearest_node, new_node, self.obstacle_list):\n                self.node_list.append(new_node)\n    \n            # Don't need to modify beyond here\n            # If the new_node is very close to the goal, connect it\n            # directly to the goal and return the final path\n            if self.dist_to_goal(self.node_list[-1].p) <= self.max_extend_length:\n                final_node = self.steer(self.node_list[-1], self.goal, self.max_extend_length)\n                if not self.collision(final_node, self.node_list[-1], self.obstacle_list):\n                    return self.final_path(len(self.node_list) - 1)\n        return None  # cannot find path\n\n    def steer(self, from_node, to_node, max_extend_length=np.inf):\n        \"\"\"Connects from_node to a new_node in the direction of to_node\n        with maximum distance max_extend_length\n        \"\"\"\n        new_node = self.Node(to_node.p)\n        d = from_node.p - to_node.p\n        dist = np.linalg.norm(d)\n        if dist > max_extend_length:\n            # rescale the path to the maximum extend_length\n            new_node.p  = from_node.p - d / dist * max_extend_length\n        new_node.parent = from_node\n        return new_node\n\n    def dist_to_goal(self, p):\n        \"\"\"Distance from p to goal\"\"\"\n        return np.linalg.norm(p - self.goal.p)\n\n    def get_random_node(self):\n        \"\"\"Sample random node inside bounds or sample goal point\"\"\"\n        if np.random.rand() > self.goal_sample_rate:\n            # Sample random point inside boundaries\n            rnd = self.Node(np.random.rand(2)*(self.bounds[1]-self.bounds[0]) + self.bounds[0])\n        else:  \n            # Select goal point\n            rnd = self.Node(self.goal.p)\n        return rnd\n    \n    @staticmethod\n    def get_nearest_node(node_list, node):\n        \"\"\"Find the nearest node in node_list to node\"\"\"\n        dlist = [np.sum(np.square((node.p - n.p))) for n in node_list]\n        minind = dlist.index(min(dlist))\n        return node_list[minind]\n    \n    @staticmethod\n    def collision(node1, node2, obstacle_list):\n        \"\"\"Check whether the path connecting node1 and node2 \n        is in collision with anyting from the obstacle_list\n        \"\"\"\n        p1 = node2.p\n        p2 = node1.p \n        for o in obstacle_list:\n            center_circle = o[0:2]\n            radius = o[2]\n            d12 = p2 - p1 # the directional vector from p1 to p2\n            # defines the line v(t) := p1 + d12*t going through p1=v(0) and p2=v(1)\n            d1c = center_circle - p1 # the directional vector from circle to p1\n            # t is where the line v(t) and the circle are closest\n            # Do not divide by zero if node1.p and node2.p are the same.\n            # In that case this will still check for collisions with circles\n            t = d12.dot(d1c) / (d12.dot(d12) + 1e-7)\n            t = max(0, min(t, 1)) # Our line segment is bounded 0<=t<=1\n            d = p1 + d12*t # The point where the line segment and circle are closest\n            is_collide = np.sum(np.square(center_circle-d)) < radius**2\n            if is_collide:\n                return True # is in collision\n        return False # is not in collision\n    \n    def final_path(self, goal_ind):\n        \"\"\"Compute the final path from the goal node to the start node\"\"\"\n        path = [self.goal.p]\n        node = self.node_list[goal_ind]\n        # modify here: Generate the final path from the goal node to the start node.\n        # We will check that path[0] == goal and path[-1] == start\n        while node is not None:\n            path.append(node.p)\n            node = node.parent\n\n        return path\n\n    def draw_graph(self):\n        for node in self.node_list:\n            if node.parent:\n                plt.plot([node.p[0], node.parent.p[0]], [node.p[1], node.parent.p[1]], \"-g\")",
   "execution_count": null,
   "outputs": [
    {
     "output_type": "error",
     "ename": "NameError",
     "evalue": "name 'np' is not defined",
     "traceback": [
      "\u001b[0;31m---------------------------------------------------------------------------\u001b[0m",
      "\u001b[0;31mNameError\u001b[0m                                 Traceback (most recent call last)",
      "\u001b[0;32m<ipython-input-1-d726fbffc9f6>\u001b[0m in \u001b[0;36m<cell line: 1>\u001b[0;34m()\u001b[0m\n\u001b[0;32m----> 1\u001b[0;31m \u001b[0;32mclass\u001b[0m \u001b[0mRRT\u001b[0m\u001b[0;34m:\u001b[0m\u001b[0;34m\u001b[0m\u001b[0;34m\u001b[0m\u001b[0m\n\u001b[0m\u001b[1;32m      2\u001b[0m \u001b[0;34m\u001b[0m\u001b[0m\n\u001b[1;32m      3\u001b[0m     \u001b[0;32mclass\u001b[0m \u001b[0mNode\u001b[0m\u001b[0;34m:\u001b[0m\u001b[0;34m\u001b[0m\u001b[0;34m\u001b[0m\u001b[0m\n\u001b[1;32m      4\u001b[0m         \u001b[0;32mdef\u001b[0m \u001b[0m__init__\u001b[0m\u001b[0;34m(\u001b[0m\u001b[0mself\u001b[0m\u001b[0;34m,\u001b[0m \u001b[0mp\u001b[0m\u001b[0;34m)\u001b[0m\u001b[0;34m:\u001b[0m\u001b[0;34m\u001b[0m\u001b[0;34m\u001b[0m\u001b[0m\n\u001b[1;32m      5\u001b[0m             \u001b[0mself\u001b[0m\u001b[0;34m.\u001b[0m\u001b[0mp\u001b[0m \u001b[0;34m=\u001b[0m \u001b[0mnp\u001b[0m\u001b[0;34m.\u001b[0m\u001b[0marray\u001b[0m\u001b[0;34m(\u001b[0m\u001b[0mp\u001b[0m\u001b[0;34m)\u001b[0m\u001b[0;34m\u001b[0m\u001b[0;34m\u001b[0m\u001b[0m\n",
      "\u001b[0;32m<ipython-input-1-d726fbffc9f6>\u001b[0m in \u001b[0;36mRRT\u001b[0;34m()\u001b[0m\n\u001b[1;32m     48\u001b[0m         \u001b[0;32mreturn\u001b[0m \u001b[0;32mNone\u001b[0m  \u001b[0;31m# cannot find path\u001b[0m\u001b[0;34m\u001b[0m\u001b[0;34m\u001b[0m\u001b[0m\n\u001b[1;32m     49\u001b[0m \u001b[0;34m\u001b[0m\u001b[0m\n\u001b[0;32m---> 50\u001b[0;31m     \u001b[0;32mdef\u001b[0m \u001b[0msteer\u001b[0m\u001b[0;34m(\u001b[0m\u001b[0mself\u001b[0m\u001b[0;34m,\u001b[0m \u001b[0mfrom_node\u001b[0m\u001b[0;34m,\u001b[0m \u001b[0mto_node\u001b[0m\u001b[0;34m,\u001b[0m \u001b[0mmax_extend_length\u001b[0m\u001b[0;34m=\u001b[0m\u001b[0mnp\u001b[0m\u001b[0;34m.\u001b[0m\u001b[0minf\u001b[0m\u001b[0;34m)\u001b[0m\u001b[0;34m:\u001b[0m\u001b[0;34m\u001b[0m\u001b[0;34m\u001b[0m\u001b[0m\n\u001b[0m\u001b[1;32m     51\u001b[0m         \"\"\"Connects from_node to a new_node in the direction of to_node\n\u001b[1;32m     52\u001b[0m         \u001b[0;32mwith\u001b[0m \u001b[0mmaximum\u001b[0m \u001b[0mdistance\u001b[0m \u001b[0mmax_extend_length\u001b[0m\u001b[0;34m\u001b[0m\u001b[0;34m\u001b[0m\u001b[0m\n",
      "\u001b[0;31mNameError\u001b[0m: name 'np' is not defined"
     ]
    }
   ]
  },
  {
   "cell_type": "code",
   "metadata": {
    "cell_id": "5a95263cb2524e979367c2de8955044e",
    "tags": [],
    "deepnote_to_be_reexecuted": false,
    "source_hash": "b312e77b",
    "execution_start": 1651605177728,
    "execution_millis": 1,
    "deepnote_cell_type": "code",
    "deepnote_cell_height": 2241
   },
   "source": "class RRTStar(RRT):\n    \n    class Node(RRT.Node):\n        def __init__(self, p):\n            super().__init__(p)\n            self.cost = 0.0\n\n    def __init__(self, start, goal, obstacle_list, bounds,\n                 max_extend_length=5.0,\n                 path_resolution=0.5,\n                 goal_sample_rate=0.0,\n                 max_iter=200,\n                 connect_circle_dist=50.0\n                 ):\n        super().__init__(start, goal, obstacle_list, bounds, max_extend_length,\n                         path_resolution, goal_sample_rate, max_iter)\n        self.connect_circle_dist = connect_circle_dist\n        self.goal = self.Node(goal)\n\n    def plan(self):\n        \"\"\"Plans the path from start to goal while avoiding obstacles\"\"\"\n        self.node_list = [self.start]\n        for i in range(self.max_iter):\n            # Create a random node inside the bounded environment\n            rnd = self.get_random_node()\n            # Find nearest node\n            nearest_node = self.get_nearest_node(self.node_list, rnd)\n            # Get new node by connecting rnd_node and nearest_node\n            new_node = self.steer(nearest_node, rnd, self.max_extend_length)\n            # If path between new_node and nearest node is not in collision:\n            if not self.collision(new_node, nearest_node, self.obstacle_list):\n                near_inds = self.near_nodes_inds(new_node)\n                # Connect the new node to the best parent in near_inds\n                new_node = self.choose_parent(new_node, near_inds)\n                self.node_list.append(new_node)\n                # Rewire the nodes in the proximity of new_node if it improves their costs\n                self.rewire(new_node, near_inds)\n        last_index, min_cost = self.best_goal_node_index()\n        if last_index:\n            return self.final_path(last_index), min_cost\n        return None, min_cost\n\n    def choose_parent(self, new_node, near_inds):\n        \"\"\"Set new_node.parent to the lowest resulting cost parent in near_inds and\n        new_node.cost to the corresponding minimal cost\n        \"\"\"\n        min_cost = np.inf\n        best_near_node = None\n        # modify here: Go through all near nodes and evaluate them as potential parent nodes by\n        # 1) checking whether a connection would result in a collision,\n        # 2) evaluating the cost of the new_node if it had that near node as a parent,\n        # 3) picking the parent resulting in the lowest cost and updating\n        #    the cost of the new_node to the minimum cost.\n        for ind in near_inds:\n            potential_parent = self.node_list[ind]\n            if not self.collision(potential_parent, new_node, self.obstacle_list):\n                potential_cost = self.new_cost(potential_parent, new_node)\n                if potential_cost < min_cost:\n                    min_cost = potential_cost\n                    best_near_node = potential_parent\n                \n        \n        # Don't need to modify beyond here\n        new_node.cost = min_cost\n        new_node.parent = best_near_node\n        return new_node\n    \n    def rewire(self, new_node, near_inds):\n        \"\"\"Rewire near nodes to new_node if this will result in a lower cost\"\"\"\n        # modify here: Go through all near nodes and check whether rewiring them\n        # to the new_node would: \n        # A) Not cause a collision and\n        # B) reduce their own cost.\n        # If A and B are true, update the cost and parent properties of the node.\n        for ind in near_inds: \n            current_node = self.node_list[ind]\n            new_cost = self.new_cost(new_node, current_node)\n            if not self.collision(current_node, new_node, self.obstacle_list) and new_cost < current_node.cost:\n                current_node.cost = new_cost\n                current_node.parent = new_node\n\n        # Don't need to modify beyond here\n        self.propagate_cost_to_leaves(new_node)\n\n    def best_goal_node_index(self):\n        \"\"\"Find the lowest cost node to the goal\"\"\"\n        min_cost = np.inf\n        best_goal_node_idx = None\n        for i in range(len(self.node_list)):\n            node = self.node_list[i]\n            # Has to be in close proximity to the goal\n            if self.dist_to_goal(node.p) <= self.max_extend_length:\n                # Connection between node and goal needs to be collision free\n                if not self.collision(self.goal, node, self.obstacle_list):\n                    # The final path length\n                    cost = node.cost + self.dist_to_goal(node.p) \n                    if node.cost + self.dist_to_goal(node.p) < min_cost:\n                        # Found better goal node!\n                        min_cost = cost\n                        best_goal_node_idx = i\n        return best_goal_node_idx, min_cost\n\n    def near_nodes_inds(self, new_node):\n        \"\"\"Find the nodes in close proximity to new_node\"\"\"\n        nnode = len(self.node_list) + 1\n        r = self.connect_circle_dist * np.sqrt((np.log(nnode) / nnode))\n        dlist = [np.sum(np.square((node.p - new_node.p))) for node in self.node_list]\n        near_inds = [dlist.index(i) for i in dlist if i <= r ** 2]\n        return near_inds\n\n    def new_cost(self, from_node, to_node):\n        \"\"\"to_node's new cost if from_node were the parent\"\"\"\n        d = np.linalg.norm(from_node.p - to_node.p)\n        return from_node.cost + d\n\n    def propagate_cost_to_leaves(self, parent_node):\n        \"\"\"Recursively update the cost of the nodes\"\"\"\n        for node in self.node_list:\n            if node.parent == parent_node:\n                node.cost = self.new_cost(parent_node, node)\n                self.propagate_cost_to_leaves(node)",
   "execution_count": null,
   "outputs": []
  },
  {
   "cell_type": "code",
   "metadata": {
    "cell_id": "a7977a7cd6714e56af83a7f3ef440303",
    "tags": [],
    "deepnote_to_be_reexecuted": false,
    "source_hash": "a5570511",
    "execution_start": 1652888310115,
    "execution_millis": 0,
    "deepnote_cell_type": "code",
    "deepnote_cell_height": 621
   },
   "source": "def even_space_2d(path):\n    reversed_path = list(reversed(path))\n    new_path = []\n    total_step = 0.1\n\n    for i in range(len(reversed_path)-1):\n        x1, y1 = reversed_path[i]\n        x2, y2 = reversed_path[i+1]\n\n        slope = (y2-y1)/(x2-x1)\n\n        x_step = np.abs(total_step/np.sqrt(slope**2+1))\n        y_step = np.abs(slope*x_step)\n\n        if x1 < x2:\n            x_factor = 1\n        else:\n            x_factor = -1\n\n        if y1 < y2:\n            y_factor = 1\n        else:\n            y_factor = -1\n\n        path_x = np.arange(x1, x2, x_factor*x_step)\n        path_y = np.arange(y1, y2, y_factor*y_step)\n\n        zipped_path = list(zip(path_x, path_y))\n        new_path += zipped_path\n\n    return new_path",
   "execution_count": null,
   "outputs": []
  },
  {
   "cell_type": "markdown",
   "source": "### RRT (3D)",
   "metadata": {
    "formattedRanges": [],
    "cell_id": "7527050e34914405b5009f04b34a2b2a",
    "tags": [],
    "is_collapsed": false,
    "owner_user_id": "88ed08a4-7009-4f23-852e-a30221d2b774",
    "deepnote_cell_type": "text-cell-h3"
   }
  },
  {
   "cell_type": "code",
   "metadata": {
    "cell_id": "dbb8382b6a03485ca9bb15f0f13d6b57",
    "tags": [],
    "deepnote_cell_type": "code",
    "deepnote_cell_height": 2334
   },
   "source": "class RRT3D:\n \n    class Node:\n        def __init__(self, p):\n            self.p = np.array(p)\n            self.parent = None\n\n    def __init__(self, start, goal, obstacle_list, bounds, \n                 max_extend_length=3.0, path_resolution=0.5, \n                 goal_sample_rate=0.05, max_iter=100):\n        self.start = self.Node(start)\n        self.goal = self.Node(goal)\n        self.bounds = bounds #either (,2) or (3x2)\n        self.max_extend_length = max_extend_length\n        self.path_resolution = path_resolution\n        self.goal_sample_rate = goal_sample_rate\n        self.max_iter = max_iter\n        self.obstacle_list = obstacle_list\n        self.node_list = []\n\n    def plan(self):\n        \"\"\"Plans the path from start to goal while avoiding obstacles\"\"\"\n        self.node_list = [self.start]\n        for i in range(self.max_iter):\n            # modify here: \n            # 1) Create a random node (rnd_node) inside \n            # the bounded environment\n            # 2) Find nearest node (nearest_node)\n            # 3) Get new node (new_node) by connecting\n            # rnd_node and nearest_node. Hint: steer\n            # 4) If the path between new_node and the\n            # nearest node is not in collision, add it to the node_list\n            rnd_node = self.get_random_node()\n            nearest_node = self.get_nearest_node(self.node_list, rnd_node)\n\n            new_node = self.steer(nearest_node, rnd_node, self.max_extend_length)\n\n            if not self.collision(nearest_node, new_node, self.obstacle_list):\n                self.node_list.append(new_node)\n    \n            # Don't need to modify beyond here\n            # If the new_node is very close to the goal, connect it\n            # directly to the goal and return the final path\n            if self.dist_to_goal(self.node_list[-1].p) <= self.max_extend_length:\n                final_node = self.steer(self.node_list[-1], self.goal, self.max_extend_length)\n                if not self.collision(final_node, self.node_list[-1], self.obstacle_list):\n                    return self.final_path(len(self.node_list) - 1)\n        return None  # cannot find path\n\n    def steer(self, from_node, to_node, max_extend_length=np.inf):\n        \"\"\"Connects from_node to a new_node in the direction of to_node\n        with maximum distance max_extend_length\n        \"\"\"\n        new_node = self.Node(to_node.p)\n        d = from_node.p - to_node.p\n        dist = np.linalg.norm(d)\n        if dist > max_extend_length:\n            # rescale the path to the maximum extend_length\n            new_node.p  = from_node.p - d / dist * max_extend_length\n        new_node.parent = from_node\n        return new_node\n\n    def dist_to_goal(self, p):\n        \"\"\"Distance from p to goal\"\"\"\n        return np.linalg.norm(p - self.goal.p)\n\n    def get_random_node(self):\n        \"\"\"Sample random node inside bounds or sample goal point\"\"\"\n        if np.random.rand() > self.goal_sample_rate:\n            # Sample random point inside boundaries\n            #rnd = self.Node(np.random.rand(3)*(self.bounds[1]-self.bounds[0]) + self.bounds[0])\n            if len(self.bounds) == 2: #same bounds for all \n                rnd = self.Node(np.random.rand(3)*(self.bounds[1]-self.bounds[0]) + self.bounds[0])\n            else:\n                rnd_x = np.random.rand(1)*(self.bounds[0][1]-self.bounds[0][0]) + self.bounds[0][0]\n                rnd_y = np.random.rand(1)*(self.bounds[1][1]-self.bounds[1][0]) + self.bounds[1][0]\n                rnd_z = np.random.rand(1)*(self.bounds[2][1]-self.bounds[2][0]) + self.bounds[2][0]\n                rnd = self.Node(np.concatenate([rnd_x,rnd_y,rnd_z]))\n        else:  \n            # Select goal point\n            rnd = self.Node(self.goal.p)\n        return rnd\n    \n    @staticmethod\n    def get_nearest_node(node_list, node):\n        \"\"\"Find the nearest node in node_list to node\"\"\"\n        dlist = [np.sum(np.square((node.p - n.p))) for n in node_list]\n        minind = dlist.index(min(dlist))\n        return node_list[minind]\n    \n    @staticmethod\n    def collision(node1, node2, obstacle_list):\n        \"\"\"Check whether the path connecting node1 and node2 \n        is in collision with anyting from the obstacle_list\n        \"\"\"\n        p1 = node2.p\n        p2 = node1.p \n        for o in obstacle_list:\n            in_collision = True\n            if len(o) == 4: # spherical obstacle\n                in_collision = sphere_collision(p1, p2, o)\n            elif len(o) == 6: # rectangular obstacle\n                in_collision = box_collision(p1, p2, o)\n            else:\n                raise Exception(\"Unknown obstacle parameters. Must be spherical ([x,y,z,r]) or rectangular ([x,y,z,w,h,d]).\")\n\n            if in_collision:\n                return True\n\n        return False # is not in collision\n    \n    def final_path(self, goal_ind):\n        \"\"\"Compute the final path from the goal node to the start node\"\"\"\n        path = [self.goal.p]\n        node = self.node_list[goal_ind]\n        # modify here: Generate the final path from the goal node to the start node.\n        # We will check that path[0] == goal and path[-1] == start\n        while node is not None:\n            path.append(node.p)\n            node = node.parent\n\n        return path\n\n    def draw_graph(self):\n        for node in self.node_list:\n            if node.parent:\n                plt.plot([node.p[0], node.parent.p[0]], [node.p[1], node.parent.p[1]], [node.p[2], node.parent.p[2]], \"-g\")",
   "execution_count": null,
   "outputs": []
  },
  {
   "cell_type": "code",
   "metadata": {
    "cell_id": "b3199e2b987342a2880f3ae85f77c374",
    "tags": [],
    "deepnote_cell_type": "code",
    "deepnote_cell_height": 2208
   },
   "source": "class RRTStar3D(RRT3D):\n    \n    class Node(RRT.Node):\n        def __init__(self, p):\n            super().__init__(p)\n            self.cost = 0.0\n\n    def __init__(self, start, goal, obstacle_list, bounds,\n                 max_extend_length=5.0,\n                 path_resolution=0.5,\n                 goal_sample_rate=0.0,\n                 max_iter=200,\n                 connect_circle_dist=50.0\n                 ):\n        super().__init__(start, goal, obstacle_list, bounds, max_extend_length,\n                         path_resolution, goal_sample_rate, max_iter)\n        self.connect_circle_dist = connect_circle_dist\n        self.goal = self.Node(goal)\n\n    def plan(self):\n        \"\"\"Plans the path from start to goal while avoiding obstacles\"\"\"\n        self.node_list = [self.start]\n        for i in range(self.max_iter):\n            # Create a random node inside the bounded environment\n            rnd = self.get_random_node()\n            # Find nearest node\n            nearest_node = self.get_nearest_node(self.node_list, rnd)\n            # Get new node by connecting rnd_node and nearest_node\n            new_node = self.steer(nearest_node, rnd, self.max_extend_length)\n            # If path between new_node and nearest node is not in collision:\n            if not self.collision(new_node, nearest_node, self.obstacle_list):\n                near_inds = self.near_nodes_inds(new_node)\n                # Connect the new node to the best parent in near_inds\n                new_node = self.choose_parent(new_node, near_inds)\n                self.node_list.append(new_node)\n                # Rewire the nodes in the proximity of new_node if it improves their costs\n                self.rewire(new_node, near_inds)\n        last_index, min_cost = self.best_goal_node_index()\n        if last_index:\n            return self.final_path(last_index), min_cost\n        return None, min_cost\n\n    def choose_parent(self, new_node, near_inds):\n        \"\"\"Set new_node.parent to the lowest resulting cost parent in near_inds and\n        new_node.cost to the corresponding minimal cost\n        \"\"\"\n        min_cost = np.inf\n        best_near_node = None\n        # modify here: Go through all near nodes and evaluate them as potential parent nodes by\n        # 1) checking whether a connection would result in a collision,\n        # 2) evaluating the cost of the new_node if it had that near node as a parent,\n        # 3) picking the parent resulting in the lowest cost and updating\n        #    the cost of the new_node to the minimum cost.\n        for ind in near_inds:\n            potential_parent = self.node_list[ind]\n            if not self.collision(potential_parent, new_node, self.obstacle_list):\n                potential_cost = self.new_cost(potential_parent, new_node)\n                if potential_cost < min_cost:\n                    min_cost = potential_cost\n                    best_near_node = potential_parent\n                \n        # Don't need to modify beyond here\n        new_node.cost = min_cost\n        new_node.parent = best_near_node\n        return new_node\n    \n    def rewire(self, new_node, near_inds):\n        \"\"\"Rewire near nodes to new_node if this will result in a lower cost\"\"\"\n        # modify here: Go through all near nodes and check whether rewiring them\n        # to the new_node would: \n        # A) Not cause a collision and\n        # B) reduce their own cost.\n        # If A and B are true, update the cost and parent properties of the node.\n        for ind in near_inds: \n            current_node = self.node_list[ind]\n            new_cost = self.new_cost(new_node, current_node)\n            if not self.collision(current_node, new_node, self.obstacle_list) and new_cost < current_node.cost:\n                current_node.cost = new_cost\n                current_node.parent = new_node\n\n        # Don't need to modify beyond here\n        self.propagate_cost_to_leaves(new_node)\n\n    def best_goal_node_index(self):\n        \"\"\"Find the lowest cost node to the goal\"\"\"\n        min_cost = np.inf\n        best_goal_node_idx = None\n        for i in range(len(self.node_list)):\n            node = self.node_list[i]\n            # Has to be in close proximity to the goal\n            if self.dist_to_goal(node.p) <= self.max_extend_length:\n                # Connection between node and goal needs to be collision free\n                if not self.collision(self.goal, node, self.obstacle_list):\n                    # The final path length\n                    cost = node.cost + self.dist_to_goal(node.p) \n                    if node.cost + self.dist_to_goal(node.p) < min_cost:\n                        # Found better goal node!\n                        min_cost = cost\n                        best_goal_node_idx = i\n        return best_goal_node_idx, min_cost\n\n    def near_nodes_inds(self, new_node):\n        \"\"\"Find the nodes in close proximity to new_node\"\"\"\n        nnode = len(self.node_list) + 1\n        r = self.connect_circle_dist * np.sqrt((np.log(nnode) / nnode))\n        dlist = [np.sum(np.square((node.p - new_node.p))) for node in self.node_list]\n        near_inds = [dlist.index(i) for i in dlist if i <= r ** 2]\n        return near_inds\n\n    def new_cost(self, from_node, to_node):\n        \"\"\"to_node's new cost if from_node were the parent\"\"\"\n        d = np.linalg.norm(from_node.p - to_node.p)\n        return from_node.cost + d\n\n    def propagate_cost_to_leaves(self, parent_node):\n        \"\"\"Recursively update the cost of the nodes\"\"\"\n        for node in self.node_list:\n            if node.parent == parent_node:\n                node.cost = self.new_cost(parent_node, node)\n                self.propagate_cost_to_leaves(node)",
   "execution_count": null,
   "outputs": []
  },
  {
   "cell_type": "code",
   "metadata": {
    "cell_id": "9d8f663f864a496581bdc2459a007aba",
    "tags": [],
    "deepnote_to_be_reexecuted": false,
    "source_hash": "94f085b0",
    "execution_start": 1651710202512,
    "execution_millis": 1,
    "deepnote_cell_type": "code",
    "deepnote_cell_height": 891
   },
   "source": "def even_space_3d(path, d):\n\n    reversed_path = list(reversed(path))\n    new_path = []\n    step_size = d\n\n    for i in range(len(reversed_path)-1):\n        x1, y1, z1 = reversed_path[i]\n        x2, y2, z2 = reversed_path[i+1]\n\n        d = np.sqrt((x2-x1)**2 + (y2-y1)**2 + (z2-z1)**2) + 10**-6 #total length of segment\n\n        #slope = (y2-y1)/(x2-x1)\n\n        x_step = step_size*(x2-x1)/d\n        y_step = step_size*(y2-y1)/d\n        z_step = step_size*(z2-z1)/d\n\n        if x_step == 0:\n            x_step = 10**-6\n        if y_step == 0:\n            y_step = 10**-6\n        if z_step == 0:\n            z_step = 10**-6\n\n        path_x = np.arange(x1, x2, x_step)\n        path_y = np.arange(y1, y2, y_step)\n        path_z = np.arange(z1, z2, z_step)\n\n        max_len = max(len(path_x), len(path_y), len(path_z))\n\n        if len(path_x) == 0:\n            assert (x1 == x2)\n            path_x = x1*np.ones((max_len,))\n        if len(path_y) == 0:\n            assert (y1 == y2)\n            path_y = y1*np.ones((max_len,))\n        if len(path_z) == 0:\n            assert (z1 == z2)\n            path_z = z1*np.ones((max_len,))\n\n        zipped_path = list(zip(path_x, path_y, path_z))\n        new_path += zipped_path\n\n    return new_path\n    ",
   "execution_count": null,
   "outputs": []
  },
  {
   "cell_type": "markdown",
   "source": "### Collision Function",
   "metadata": {
    "formattedRanges": [],
    "cell_id": "8aca5b6af25d44148ad4d94d452762ff",
    "tags": [],
    "is_collapsed": false,
    "deepnote_cell_type": "text-cell-h3"
   }
  },
  {
   "cell_type": "code",
   "metadata": {
    "cell_id": "1f3ed983c980454194c21944a8e11316",
    "tags": [],
    "deepnote_cell_type": "code",
    "deepnote_cell_height": 318
   },
   "source": "def sphere_collision(p1, p2, o):\n    center_circle = o[0:3]\n    radius = o[3]\n    d12 = p2 - p1 # the directional vector from p1 to p2\n    # defines the line v(t) := p1 + d12*t going through p1=v(0) and p2=v(1)\n    d1c = center_circle - p1 # the directional vector from circle to p1\n    # t is where the line v(t) and the circle are closest\n    # Do not divide by zero if node1.p and node2.p are the same.\n    # In that case this will still check for collisions with circles\n    t = d12.dot(d1c) / (d12.dot(d12) + 1e-7)\n    t = max(0, min(t, 1)) # Our line segment is bounded 0<=t<=1\n    d = p1 + d12*t # The point where the line segment and circle are closest\n    is_collide = np.sum(np.square(center_circle-d)) < radius**2\n\n    return is_collide",
   "execution_count": null,
   "outputs": []
  },
  {
   "cell_type": "code",
   "metadata": {
    "cell_id": "1096f69edfed46f9b9fa64ea54d32e95",
    "tags": [],
    "deepnote_cell_type": "code",
    "deepnote_cell_height": 120
   },
   "source": "def box_collision(p1, p2, box):\n    (b1, b2) = getMinMaxBox(box) #returns list of [xmin, ymin, zmin] and [xmax, ymax, zmax]\n    return CheckLineBox(b1, b2, p1, p2)\n    ",
   "execution_count": null,
   "outputs": []
  },
  {
   "cell_type": "code",
   "metadata": {
    "cell_id": "5d5a9979a0b64bd19c934ce1001bbb92",
    "tags": [],
    "deepnote_cell_type": "code",
    "deepnote_cell_height": 1218
   },
   "source": "def getIntersectionAndInBox(fDst1, fDst2, P1, P2, B1, B2, Axis):\n    if ( (fDst1 * fDst2) >= 0.0):\n        #print('Case 9')\n        return False\n    if ( fDst1 == fDst2):\n        #print('Case 10')\n        return False\n\n    Hit = P1 + (P2-P1) * ( -fDst1/(fDst2-fDst1) )\n    #print(f'Hit: {Hit}')\n\n    if ( Axis==1 and Hit[2] >= B1[2] and Hit[2] <= B2[2] and Hit[1] >= B1[1] and Hit[1] <= B2[1]):\n        #print('Case 11')\n        return True\n    if ( Axis==2 and Hit[2] >= B1[2] and Hit[2] <= B2[2] and Hit[0] >= B1[0] and Hit[0] <= B2[0]):\n        #print('Case 12')\n        return True\n    if ( Axis==3 and Hit[0] >= B1[0] and Hit[0] <= B2[0] and Hit[1] > B1[1] and Hit[1] <= B2[1]):\n        #print('Case 13')\n        return True\n\n    #print('Case 14')\n    return False\n\n\n# returns true if line (L1, L2) intersects with the box (B1, B2)\n# returns intersection point in Hit\n# Returns False if on boundary\ndef CheckLineBox(B1, B2, L1, L2):\n    if (L2[0] < B1[0] and L1[0] < B1[0]):\n        #print('Case 1: X value outside min value')\n        return False\n    if (L2[0] > B2[0] and L1[0] > B2[0]):\n        #print('Case 2: X value outside max value')\n        return False\n    if (L2[1] < B1[1] and L1[1] < B1[1]):\n        #print('Case 3: Y value outside min value')\n        return False\n    if (L2[1] > B2[1] and L1[1] > B2[1]):\n        #print('Case 4: Y value outside max value')\n        return False\n    if (L2[2] < B1[2] and L1[2] < B1[2]):\n        #print('Case 5: Z value outside min value')\n        return False\n    if (L2[2] > B2[2] and L1[2] > B2[2]):\n        #print('Case 6: Z value outside max value')\n        return False\n   \n    if (L1[0] >= B1[0] and L1[0] <= B2[0] and L1[1] >= B1[1] and L1[1] <= B2[1] and L1[2] >= B1[2] and L1[2] <= B2[2]):\n        #print('Case 7: Completely w/in')\n        return True\n\n    # L1[0]-B1[0]: dist of first point to min x\n    # L2[0]-B1[0]: dist of 2nd point to min x\n    if getIntersectionAndInBox(L1[0]-B1[0], L2[0]-B1[0], L1, L2, B1, B2, 1) or \\\n    getIntersectionAndInBox(L1[1]-B1[1], L2[1]-B1[1], L1, L2, B1, B2, 2) or \\\n    getIntersectionAndInBox(L1[2]-B1[2], L2[2]-B1[2], L1, L2, B1, B2, 3) or \\\n    getIntersectionAndInBox(L1[0]-B2[0], L2[0]-B2[0], L1, L2, B1, B2, 1) or \\\n    getIntersectionAndInBox(L1[1]-B2[1], L2[1]-B2[1], L1, L2, B1, B2, 2) or \\\n    getIntersectionAndInBox(L1[[0]]-B2[2], L2[2]-B2[2], L1, L2, B1, B2, 3):\n        #print('Case 8')\n        return True\n    \n    #print('No cases')\n    return False",
   "execution_count": null,
   "outputs": []
  },
  {
   "cell_type": "markdown",
   "source": "<a style='text-decoration:none;line-height:16px;display:flex;color:#5B5B62;padding:10px;justify-content:end;' href='https://deepnote.com?utm_source=created-in-deepnote-cell&projectId=931e8205-9a5c-4b8e-a3da-167564211c03' target=\"_blank\">\n<img alt='Created in deepnote.com' style='display:inline;max-height:16px;margin:0px;margin-right:7.5px;' src='data:image/svg+xml;base64,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' > </img>\nCreated in <span style='font-weight:600;margin-left:4px;'>Deepnote</span></a>",
   "metadata": {
    "tags": [],
    "created_in_deepnote_cell": true,
    "deepnote_cell_type": "markdown"
   }
  }
 ],
 "nbformat": 4,
 "nbformat_minor": 2,
 "metadata": {
  "orig_nbformat": 2,
  "deepnote": {},
  "deepnote_notebook_id": "b06c4c48-c644-4cc7-9bb1-781688ea6ac4",
  "deepnote_execution_queue": []
 }
}