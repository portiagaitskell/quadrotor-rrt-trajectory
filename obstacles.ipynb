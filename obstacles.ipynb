{
 "cells": [
  {
   "cell_type": "code",
   "metadata": {
    "tags": [],
    "cell_id": "02451eec-797a-4c4a-92e2-1644f96470a5",
    "deepnote_to_be_reexecuted": false,
    "source_hash": "b30889f",
    "execution_start": 1652889547773,
    "execution_millis": 5,
    "deepnote_cell_type": "code",
    "deepnote_cell_height": 94
   },
   "source": "# Start writing code here...\nimport numpy as np",
   "execution_count": null,
   "outputs": []
  },
  {
   "cell_type": "code",
   "metadata": {
    "cell_id": "4f3ae8d8e59d48999d4bc348ab068020",
    "tags": [],
    "deepnote_to_be_reexecuted": false,
    "source_hash": "e1fed244",
    "execution_start": 1652889443285,
    "execution_millis": 0,
    "deepnote_cell_type": "code",
    "deepnote_cell_height": 171
   },
   "source": "import copy\n\ndef add_tolerance(obstacles, epsilon):\n    new_obstacles = copy.deepcopy(obstacles)\n    new_obstacles[:,3:] += epsilon\n    return new_obstacles",
   "execution_count": null,
   "outputs": []
  },
  {
   "cell_type": "code",
   "metadata": {
    "cell_id": "a19f7664a4034a439032d4e1165383a8",
    "tags": [],
    "deepnote_to_be_reexecuted": false,
    "source_hash": "7db27828",
    "execution_start": 1652889444866,
    "execution_millis": 8,
    "owner_user_id": "88ed08a4-7009-4f23-852e-a30221d2b774",
    "deepnote_cell_type": "code",
    "deepnote_cell_height": 477
   },
   "source": "# MAZE\ndef get_maze():\n    # MAZE COURSE\n    box_obstacles = np.array([\n        np.array([-5,-3,2, 0.5,6,4]),\n        np.array([-3,-3.75,2, 0.5,4.5,4]),\n\n        np.array([-2,0.25,2, 6.5,0.5,4]),\n        np.array([0,-1.75,2, 5.5,0.5,4]),\n\n        np.array([1.,2.75,2, 0.5,4.5,4]),\n        np.array([3,1.5,2, 0.5,7,4]),\n\n    ])\n\n    start = np.array([-4,-5.5,0.2])\n    goal = np.array([2,4.5,0.2])\n    bounds = np.array([[-4.1,8],[-5.6,8],[0,4]]) #all obstacles will have height of 4\n\n    return box_obstacles, start, goal, bounds\n\n\n",
   "execution_count": null,
   "outputs": []
  },
  {
   "cell_type": "code",
   "metadata": {
    "cell_id": "4054e86ca96d4aaa8058954bef3b2966",
    "tags": [],
    "deepnote_to_be_reexecuted": false,
    "source_hash": "c0f708d8",
    "execution_start": 1652889445082,
    "execution_millis": 5,
    "deepnote_cell_type": "code",
    "deepnote_cell_height": 315
   },
   "source": "def get_course_1():\n    # Course 1\n    box_obstacles = np.array([\n        np.array([-2,-2,2, 2,0.5,4]),\n        np.array([-0.75,-1,2, 0.5,2,4]),\n        np.array([-3.25,-1,2, 0.5,2,4])\n    ])\n\n    epsilon = 0.5\n    start = np.array([-2,-4,0.2])\n    goal = np.array([-2,-1,1])\n    bounds = np.array([[-8,8],[-8,8],[0,4]]) #all obstacles will have height of 5\n\n    return box_obstacles, start, goal, bounds",
   "execution_count": null,
   "outputs": []
  },
  {
   "cell_type": "code",
   "metadata": {
    "cell_id": "8a9097b85e184d1e8a9ce68827b0dc97",
    "tags": [],
    "deepnote_to_be_reexecuted": false,
    "source_hash": "c43e175",
    "execution_start": 1652889446113,
    "execution_millis": 5,
    "deepnote_cell_type": "code",
    "deepnote_cell_height": 333
   },
   "source": "def get_course_2():\n    box_obstacles = np.array([\n        np.array([-2,-2,2, 4,0.5,4]),\n        np.array([0.25,-1,2, 0.5,2,4]),\n        np.array([-4.25,-1,2, 0.5,2,4])\n    ])\n\n    # collision avoidance tolerance\n    epsilon = 0.5\n\n    start = np.array([-2,-6,0.2])\n    goal = np.array([-2,-1,1])\n    bounds = np.array([[-8,8],[-8,8],[0,4]]) #all obstacles will have height of 5\n\n    return box_obstacles, start, goal, bounds",
   "execution_count": null,
   "outputs": []
  },
  {
   "cell_type": "code",
   "metadata": {
    "cell_id": "bc5536c22b9d4ab8a9367b012a75252c",
    "tags": [],
    "deepnote_to_be_reexecuted": false,
    "source_hash": "552ad9f3",
    "execution_start": 1652889446811,
    "execution_millis": 3,
    "deepnote_cell_type": "code",
    "deepnote_cell_height": 315
   },
   "source": "def get_course_3():\n    # Course 3: Like course 2 but with a hole through the center\n    box_obstacles = np.array([\n        np.array([-2,-2,0.75, 4,0.5,1.5]),\n        np.array([-2,-2,3.25, 4,0.5,1.5]),\n        np.array([0.25,-1,2, 0.5,2,4]), #right side\n        np.array([-4.25,-1,2, 0.5,2,4]) #left side\n    ])\n\n    start = np.array([-2,-6,0.2])\n    goal = np.array([-2,-1,0.2])\n    bounds = np.array([[-8,8],[-8,8],[0,4]]) #all obstacles will have height of 4\n    return box_obstacles, start, goal, bounds\n",
   "execution_count": null,
   "outputs": []
  },
  {
   "cell_type": "code",
   "metadata": {
    "cell_id": "280321fa52824aada28ed4f153aab6eb",
    "tags": [],
    "deepnote_to_be_reexecuted": false,
    "source_hash": "dafb14b7",
    "execution_start": 1652889447516,
    "execution_millis": 3,
    "deepnote_cell_type": "code",
    "deepnote_cell_height": 351
   },
   "source": "def get_sphere_course():\n    start = np.array([5, -4, 0]) # Start location\n    goal = np.array([0, 2, 0]) # Goal location\n\n    obstacles = [ # circles parametrized by [x, y, z, radius]\n            np.array([3, 0, 0, 2]),\n            np.array([3, 2, 0, 1]),\n            np.array([3, 4, 0, 2]),\n            np.array([-2, -1, 0, 2]),\n            np.array([1, -1, 0, 2]),\n            np.array([-2, 4, 0, 1])\n    ] \n\n    bounds = np.array([-6, 11]) # Bounds in both x and y and z\n\n    return obstacles, start, goal, bounds",
   "execution_count": null,
   "outputs": []
  },
  {
   "cell_type": "code",
   "metadata": {
    "cell_id": "b37a8d90671f4cf385210a2517482bc1",
    "tags": [],
    "deepnote_cell_type": "code",
    "deepnote_cell_height": 61
   },
   "source": "",
   "execution_count": null,
   "outputs": []
  },
  {
   "cell_type": "markdown",
   "source": "<a style='text-decoration:none;line-height:16px;display:flex;color:#5B5B62;padding:10px;justify-content:end;' href='https://deepnote.com?utm_source=created-in-deepnote-cell&projectId=931e8205-9a5c-4b8e-a3da-167564211c03' target=\"_blank\">\n<img alt='Created in deepnote.com' style='display:inline;max-height:16px;margin:0px;margin-right:7.5px;' src='data:image/svg+xml;base64,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' > </img>\nCreated in <span style='font-weight:600;margin-left:4px;'>Deepnote</span></a>",
   "metadata": {
    "tags": [],
    "created_in_deepnote_cell": true,
    "deepnote_cell_type": "markdown"
   }
  }
 ],
 "nbformat": 4,
 "nbformat_minor": 2,
 "metadata": {
  "orig_nbformat": 2,
  "deepnote": {},
  "deepnote_notebook_id": "b337c7f5-7b10-4164-bf03-e475278c2855",
  "deepnote_execution_queue": []
 }
}